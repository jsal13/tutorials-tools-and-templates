{
 "cells": [
  {
   "cell_type": "markdown",
   "metadata": {},
   "source": [
    "# Welcome to Introduction to Python Workshop.\n",
    "\n",
    "In this series of slides we'll go through some basic Python --- enough to get you started coding in it.  This workshop will be *interactive* so most things will be done by *you*, the user!\n",
    "\n",
    "---\n",
    "\n",
    "## Introducing Jupyter Notebooks.\n",
    "\n",
    "This is Jupyter Notebooks.  You can run Python code interactively in these small windows called \"cells\".\n",
    "\n",
    "Below, I'm going to type out some Python code which prints out a message.  In order to run this, **click inside the cell somewhere and type SHIFT+ENTER to evaluate it**.\n",
    "\n",
    "---"
   ]
  },
  {
   "cell_type": "code",
   "execution_count": null,
   "metadata": {},
   "outputs": [],
   "source": [
    "print(\"hello!\")"
   ]
  },
  {
   "cell_type": "markdown",
   "metadata": {},
   "source": [
    "---\n",
    "\n",
    "You should see `hello!` below the cell.  If you use **ENTER** you can have multiple lines in your cells.\n",
    "\n",
    "---"
   ]
  },
  {
   "cell_type": "code",
   "execution_count": null,
   "metadata": {},
   "outputs": [],
   "source": [
    "print(\"hello\")\n",
    "print(\"what's up?\")"
   ]
  },
  {
   "cell_type": "markdown",
   "metadata": {},
   "source": [
    "---\n",
    "\n",
    "You should see that both of these have printed on different lines.\n",
    "\n",
    "This is how you'll run all the code that we talk about.  Pressing **Enter** makes a new line in a cell, clicking in the cell and pressing **Enter + Shift** will run the code.  \n",
    "\n",
    "Note that when you see code in a cell that has a # before it, that is called a *comment*.  This code is not run and is usually telling the user or coder something about the code that follows.\n",
    "\n",
    "---"
   ]
  },
  {
   "cell_type": "code",
   "execution_count": null,
   "metadata": {},
   "outputs": [],
   "source": [
    "# Quiz 1.1: Try to print out your name, similar to the prints above.\n"
   ]
  },
  {
   "cell_type": "markdown",
   "metadata": {},
   "source": [
    "---\n",
    "\n",
    "Because there are many, many good tutorials about Python online, I won't try to replicate these.  Instead, I will give you a small article to read and then ask a quiz question based on that.\n",
    "\n",
    "Let's go through a few fundamental concepts with Python!\n",
    "\n",
    "--- \n",
    "\n",
    "## Variables\n",
    "\n",
    "Here is a w3 article on variables: https://www.w3schools.com/python/python_variables.asp\n",
    "* Read this article.\n",
    "* Make sure you understand the examples and have run them.\n",
    "* Do the quiz problem below:\n",
    "\n",
    "---"
   ]
  },
  {
   "cell_type": "code",
   "execution_count": null,
   "metadata": {},
   "outputs": [],
   "source": [
    "# Quiz 2.1: Make a variable called my_name and set it to your name.  Then print the variable."
   ]
  },
  {
   "cell_type": "markdown",
   "metadata": {},
   "source": [
    "---\n",
    "\n",
    "## Strings\n",
    "\n",
    "So far, we've used things which look like `\"hello\"` where the word is in quotes.  This is called a **string**.\n",
    "\n",
    "https://www.w3schools.com/python/python_strings.asp\n",
    "* Read this article; skip *Command-line String Input*.\n",
    "* Make sure you understand the examples and run them.\n",
    "* Do the quiz problems below.\n",
    "\n",
    "---"
   ]
  },
  {
   "cell_type": "code",
   "execution_count": null,
   "metadata": {},
   "outputs": [],
   "source": [
    "# Quiz 3.1: Print out the first letter of your name.\n"
   ]
  },
  {
   "cell_type": "code",
   "execution_count": null,
   "metadata": {},
   "outputs": [],
   "source": [
    "# Quiz 3.2: Make a variable equal to your name.  \n",
    "# Print out your name in all uppercase.  \n",
    "# Print out your name in all lowercase.\n"
   ]
  },
  {
   "cell_type": "markdown",
   "metadata": {},
   "source": [
    "---\n",
    "## Conditionals\n",
    "\n",
    "https://www.w3schools.com/python/python_conditions.asp\n",
    "\n",
    "* This is a VERY important section.  Make sure that you read and understand all of the if-else parts.\n",
    "* Do the quiz problems below.\n",
    "\n",
    "---"
   ]
  },
  {
   "cell_type": "code",
   "execution_count": null,
   "metadata": {},
   "outputs": [],
   "source": [
    "# Quiz 4.1: I've made a variable for you.  Make an if-else statement that says\n",
    "# if the variable 'fruit' is equal to \"apple\" then print \"Yes!\" otherwise print \"No!\"\n",
    "fruit = \"apple\""
   ]
  },
  {
   "cell_type": "code",
   "execution_count": null,
   "metadata": {},
   "outputs": [],
   "source": [
    "# Quiz 4.2: I've made a variable for you.  Make an if-else statement that says\n",
    "# if the variable 'fruit' is equal to \"banana\" then print \"Yes!\" otherwise print \"No!\"\n",
    "fruit = \"apple\"\n"
   ]
  },
  {
   "cell_type": "code",
   "execution_count": null,
   "metadata": {},
   "outputs": [],
   "source": [
    "# Quiz 4.3: I've made a variable for you.  Make an if-else statement that says \"too high!\" if\n",
    "# my_guess is above 4, \"too low!\" if it's below 4, and \"right!\" if it equals 4.\n",
    "my_guess = 5\n"
   ]
  },
  {
   "cell_type": "markdown",
   "metadata": {},
   "source": [
    "---\n",
    "## Lists\n",
    "\n",
    "If we want a collection of elements, variables, etc., we can use a structure called a *list*.\n",
    "\n",
    "https://www.w3schools.com/python/python_lists.asp\n",
    "\n",
    "* **NOTE** This one is a bit tricky because it's introducing a few new concepts.  If you don't understand the \"if\" and \"for\" statements, skip them for now.  \n",
    "* Read this article, ignore *The list() Constructor*.\n",
    "* Make sure you understand the examples and run them.\n",
    "* Do the quiz problems below.\n",
    "---"
   ]
  },
  {
   "cell_type": "code",
   "execution_count": null,
   "metadata": {},
   "outputs": [],
   "source": [
    "# Quiz 5.1: Print the 3rd element of this list.  It should be \"Orange\".\n",
    "my_list = [\"apple\", \"BANANA\", \"Orange\", \"Not Orange\"]\n"
   ]
  },
  {
   "cell_type": "code",
   "execution_count": null,
   "metadata": {},
   "outputs": [],
   "source": [
    "# Quiz 5.2: Change the value of \"apple\" to \"banana\" in the following list:\n",
    "my_list_2 = [\"map\", \"apple\", \"items\", \"wonderwall\"]\n"
   ]
  },
  {
   "cell_type": "markdown",
   "metadata": {},
   "source": [
    "---\n",
    "\n",
    "## For Loops\n",
    "\n",
    "This one will probably take the most time, so we'll end with it.\n",
    "\n",
    "https://www.w3schools.com/python/python_for_loops.asp\n",
    "\n",
    "* Make sure you understand the concepts here.  This is VERY important.\n",
    "* Do the two quizzes below and try the bonus quiz.\n",
    "---"
   ]
  },
  {
   "cell_type": "code",
   "execution_count": null,
   "metadata": {},
   "outputs": [],
   "source": [
    "# Quiz 6.1: Write a for loop that prints out each element in my_list.\n",
    "my_list = [\"hey\", \"whats\", \"up\", \"everyone\"]\n"
   ]
  },
  {
   "cell_type": "code",
   "execution_count": null,
   "metadata": {},
   "outputs": [],
   "source": [
    "# Quiz 6.2: Write a for loop that prints out each number from 1 to 50.\n"
   ]
  },
  {
   "cell_type": "code",
   "execution_count": null,
   "metadata": {},
   "outputs": [],
   "source": [
    "# Quiz 6.3 BONUS: Write a for loop that loops over student_names and prints \"pass\" if the name is \"jerry\", otherwise\n",
    "# print \"fail\".  (For EXTRA POINTS, print \"pass\" whenever the name starts with a 'j').\n",
    "\n",
    "student_names = [\"abby\", \"bernie\", \"carrie\", \"denis\", \"john\", \"james\", \"jerry\", \"xavier\", \"yakko\", \"zed\"]\n"
   ]
  },
  {
   "cell_type": "markdown",
   "metadata": {},
   "source": [
    "---\n",
    "\n",
    "## Functions\n",
    "\n",
    "One of the most important concepts in any programming language is the notion of a \"function\".  This lets you make little pieces of a program and call them elsewhere any time you want to use them.  Check this out:\n",
    "\n",
    "https://www.w3schools.com/python/python_functions.asp\n",
    "\n",
    "After you're done, try to make a function that takes in a number `n` and outputs `n + 1`.  "
   ]
  },
  {
   "cell_type": "code",
   "execution_count": null,
   "metadata": {},
   "outputs": [],
   "source": [
    "# Bonus: Try to do the quiz thing above.\n",
    "\n"
   ]
  },
  {
   "cell_type": "code",
   "execution_count": null,
   "metadata": {},
   "outputs": [],
   "source": []
  },
  {
   "cell_type": "markdown",
   "metadata": {},
   "source": [
    "---\n",
    "## END\n",
    "\n",
    "There's a LOT more Python out there but this should get you started and build a solid foundation.  If you want to keep going, I suggest either buying an introduction to python book, watching some of the sweet tutorial videos, or just start programming and look at the docs when you get stuck --- whatever way you learn best.\n",
    "\n",
    "Your mentors should be able to provide you additional support in the future during your projects if you choose to use Python.  Happy coding!"
   ]
  },
  {
   "cell_type": "code",
   "execution_count": null,
   "metadata": {},
   "outputs": [],
   "source": []
  }
 ],
 "metadata": {
  "kernelspec": {
   "display_name": "Python 3",
   "language": "python",
   "name": "python3"
  },
  "language_info": {
   "codemirror_mode": {
    "name": "ipython",
    "version": 3
   },
   "file_extension": ".py",
   "mimetype": "text/x-python",
   "name": "python",
   "nbconvert_exporter": "python",
   "pygments_lexer": "ipython3",
   "version": "3.7.6"
  }
 },
 "nbformat": 4,
 "nbformat_minor": 4
}
